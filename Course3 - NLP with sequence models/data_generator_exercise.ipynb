{
 "cells": [
  {
   "cell_type": "code",
   "execution_count": 16,
   "metadata": {},
   "outputs": [],
   "source": [
    "import numpy as np\n",
    "import random\n",
    "\n",
    "random.seed(32)"
   ]
  },
  {
   "cell_type": "code",
   "execution_count": 19,
   "metadata": {},
   "outputs": [],
   "source": [
    "def data_generator(batch_size, data, shuffle=True):\n",
    "    \n",
    "    batches = []\n",
    "    idx = 0\n",
    "    num_data = len(data)\n",
    "    range_data = [*range(num_data)]\n",
    "    \n",
    "    if shuffle:\n",
    "        random.shuffle(range_data)\n",
    "        \n",
    "    while True:\n",
    "        \n",
    "        if idx >= num_data:\n",
    "            idx = 0\n",
    "            \n",
    "            if shuffle:\n",
    "                random.shuffle(range_data)\n",
    "        \n",
    "        d = data[range_data[idx]]\n",
    "        batches.append(d)\n",
    "        \n",
    "        idx += 1\n",
    "        \n",
    "        if len(batches) == batch_size:\n",
    "            \n",
    "            yield batches\n",
    "    \n",
    "        "
   ]
  },
  {
   "cell_type": "code",
   "execution_count": 24,
   "metadata": {},
   "outputs": [],
   "source": [
    "generator = data_generator(4, [[1, 0, 3], [2, 0, 1]])\n",
    "tmp_batch = next(generator)"
   ]
  },
  {
   "cell_type": "code",
   "execution_count": 25,
   "metadata": {},
   "outputs": [
    {
     "data": {
      "text/plain": [
       "[[1, 0, 3], [2, 0, 1], [2, 0, 1], [1, 0, 3]]"
      ]
     },
     "execution_count": 25,
     "metadata": {},
     "output_type": "execute_result"
    }
   ],
   "source": [
    "tmp_batch"
   ]
  },
  {
   "cell_type": "code",
   "execution_count": null,
   "metadata": {},
   "outputs": [],
   "source": []
  }
 ],
 "metadata": {
  "kernelspec": {
   "display_name": "Python 3",
   "language": "python",
   "name": "python3"
  },
  "language_info": {
   "codemirror_mode": {
    "name": "ipython",
    "version": 3
   },
   "file_extension": ".py",
   "mimetype": "text/x-python",
   "name": "python",
   "nbconvert_exporter": "python",
   "pygments_lexer": "ipython3",
   "version": "3.8.5"
  }
 },
 "nbformat": 4,
 "nbformat_minor": 4
}
