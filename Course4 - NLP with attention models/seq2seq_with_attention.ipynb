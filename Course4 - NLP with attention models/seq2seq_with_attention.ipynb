{
 "cells": [
  {
   "cell_type": "code",
   "execution_count": 1,
   "metadata": {},
   "outputs": [],
   "source": [
    "from __future__ import unicode_literals, print_function, division\n",
    "from io import open\n",
    "import unicodedata\n",
    "import string\n",
    "import re\n",
    "import random\n",
    "import codecs\n",
    "\n",
    "import torch\n",
    "import torch.nn as nn\n",
    "from torch import optim\n",
    "import torch.nn.functional as F\n",
    "\n",
    "device = torch.device(\"cuda\" if torch.cuda.is_available() else \"cpu\")"
   ]
  },
  {
   "cell_type": "code",
   "execution_count": 63,
   "metadata": {},
   "outputs": [],
   "source": [
    "def read_file(path):\n",
    "    \n",
    "    with codecs.open(path, encoding='utf-8', mode='rb') as f:\n",
    "        data = f.read()\n",
    "    \n",
    "    return data.strip().split('\\n')\n",
    "\n",
    "def preprocess_word(word):\n",
    "    \n",
    "    s = re.sub(r'([.,?!])', r' \\1', word)\n",
    "    s = re.sub(r'[^a-zA-Z.,!?]+', r' ', word)\\\n",
    "\n",
    "    return s\n",
    "\n",
    "def split_en_fra(line):\n",
    "    \n",
    "    for l in line:\n",
    "        pair = l.lower().split('\\t')\n",
    "        en_word = pair[0]\n",
    "        fra_word = pair[1]\n",
    "\n",
    "        en.append(preprocess_word(pair[0]))\n",
    "        fra.append(preprocess_word(pair[1]))\n",
    "    \n",
    "    return en, fra"
   ]
  },
  {
   "cell_type": "code",
   "execution_count": 64,
   "metadata": {},
   "outputs": [],
   "source": [
    "line = read_file('./data/eng-fra.txt')"
   ]
  },
  {
   "cell_type": "code",
   "execution_count": 69,
   "metadata": {},
   "outputs": [
    {
     "data": {
      "text/plain": [
       "['Go.\\tVa !',\n",
       " 'Run!\\tCours\\u202f!',\n",
       " 'Run!\\tCourez\\u202f!',\n",
       " 'Wow!\\tÇa alors\\u202f!',\n",
       " 'Fire!\\tAu feu !']"
      ]
     },
     "execution_count": 69,
     "metadata": {},
     "output_type": "execute_result"
    }
   ],
   "source": [
    "line[:5]"
   ]
  },
  {
   "cell_type": "code",
   "execution_count": 67,
   "metadata": {},
   "outputs": [],
   "source": [
    "en, fra = split_en_fra(line)"
   ]
  },
  {
   "cell_type": "code",
   "execution_count": 68,
   "metadata": {},
   "outputs": [
    {
     "name": "stdout",
     "output_type": "stream",
     "text": [
      "['go .', 'run !', 'run !', 'wow !', 'fire !']\n",
      "['va !', 'cours !', 'courez !', ' a alors !', 'au feu !']\n"
     ]
    }
   ],
   "source": [
    "print(en[:5])\n",
    "print(fra[:5])"
   ]
  },
  {
   "cell_type": "code",
   "execution_count": 33,
   "metadata": {},
   "outputs": [],
   "source": [
    "def build_dict(eng_list, fra_list):\n",
    "    \n",
    "    start_token = 0\n",
    "    end_token = 1\n",
    "    \n",
    "    en_idx = {}\n",
    "    fra_idx = {}\n",
    "    idx_en = {}\n",
    "    idx_fra = {}\n",
    "    \n",
    "    en_idx['SOS'] = start_token\n",
    "    en_idx['EOS'] = end_token\n",
    "    fra_idx['SOS'] = start_token\n",
    "    fra_idx['EOS'] = end_token\n",
    "    \n",
    "    idx = 2\n",
    "    for e in eng_list:\n",
    "        for word in e.split():\n",
    "            if word not in en_idx:\n",
    "                en_idx[word] = idx\n",
    "                idx += 1\n",
    "    idx = 2\n",
    "    for f in fra_list:\n",
    "        for word in f.split():\n",
    "            if word not in fra_idx:\n",
    "                fra_idx[word] = idx\n",
    "                idx += 1\n",
    "            \n",
    "    idx_en[0] = 'SOS'\n",
    "    idx_en[1] = 'EOS'\n",
    "    idx_fra[0] = 'SOS'\n",
    "    idx_fra[1] = 'EOS'\n",
    "        \n",
    "    for word, idx in en_idx.items():\n",
    "        idx_en[idx] = word\n",
    "    for word, idx in fra_idx.items():\n",
    "        idx_fra[idx] = word\n",
    "    \n",
    "    return en_idx, fra_idx, idx_en, idx_fra"
   ]
  },
  {
   "cell_type": "code",
   "execution_count": 34,
   "metadata": {},
   "outputs": [],
   "source": [
    "en_idx, fra_idx, idx_en, idx_fra = build_dict(en, fra)"
   ]
  },
  {
   "cell_type": "code",
   "execution_count": null,
   "metadata": {},
   "outputs": [],
   "source": []
  }
 ],
 "metadata": {
  "kernelspec": {
   "display_name": "Python 3",
   "language": "python",
   "name": "python3"
  },
  "language_info": {
   "codemirror_mode": {
    "name": "ipython",
    "version": 3
   },
   "file_extension": ".py",
   "mimetype": "text/x-python",
   "name": "python",
   "nbconvert_exporter": "python",
   "pygments_lexer": "ipython3",
   "version": "3.8.5"
  }
 },
 "nbformat": 4,
 "nbformat_minor": 4
}
