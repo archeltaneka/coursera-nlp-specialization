{
 "cells": [
  {
   "cell_type": "code",
   "execution_count": 1,
   "metadata": {},
   "outputs": [],
   "source": [
    "from __future__ import unicode_literals, print_function, division\n",
    "from io import open\n",
    "import unicodedata\n",
    "import string\n",
    "import re\n",
    "import random\n",
    "import codecs\n",
    "\n",
    "import torch\n",
    "import torch.nn as nn\n",
    "from torch import optim\n",
    "import torch.nn.functional as F\n",
    "\n",
    "device = torch.device(\"cuda\" if torch.cuda.is_available() else \"cpu\")"
   ]
  },
  {
   "cell_type": "code",
   "execution_count": 2,
   "metadata": {},
   "outputs": [],
   "source": [
    "def read_file(path):\n",
    "    \n",
    "    with codecs.open(path, encoding='utf-8', mode='rb') as f:\n",
    "        data = f.read()\n",
    "    \n",
    "    return data.strip().split('\\n')\n",
    "\n",
    "def preprocess_word(word):\n",
    "    \n",
    "    s = re.sub(r'([.?!])', r' \\1', word)\n",
    "    s = re.sub(r'[^a-zA-Z.!?]+', r' ', word)\\\n",
    "\n",
    "    return s\n",
    "\n",
    "def split_en_fra(line):\n",
    "    \n",
    "    en = []\n",
    "    fra = []\n",
    "    pairs = []\n",
    "    \n",
    "    for l in line:\n",
    "        pair = l.lower().split('\\t')\n",
    "        en_word = pair[0]\n",
    "        fra_word = pair[1]\n",
    "\n",
    "        en.append(preprocess_word(pair[0]))\n",
    "        fra.append(preprocess_word(pair[1]))\n",
    "        pairs.append(pair)\n",
    "        \n",
    "    return en, fra, pairs\n",
    "\n",
    "def filter_pairs(pairs, max_length=10):\n",
    "    \n",
    "    filtered_pairs = []\n",
    "    \n",
    "    eng_prefixes = (\n",
    "        \"i am\", \"i m \",\n",
    "        \"he is\", \"he s\",\n",
    "        \"she is\", \"she s\",\n",
    "        \"you are\", \"you re\",\n",
    "        \"we are\", \"we re\",\n",
    "        \"they are\", \"they re\"\n",
    "    )\n",
    "    \n",
    "    for p in pairs:\n",
    "        if len(p[0].split(' ')) < max_length and len(p[1].split(' ')) < max_length and p[0].startswith(eng_prefixes):\n",
    "            filtered_pairs.append(p)\n",
    "            \n",
    "    return filtered_pairs"
   ]
  },
  {
   "cell_type": "code",
   "execution_count": 3,
   "metadata": {},
   "outputs": [],
   "source": [
    "line = read_file('./data/eng-fra.txt')"
   ]
  },
  {
   "cell_type": "code",
   "execution_count": 4,
   "metadata": {},
   "outputs": [
    {
     "data": {
      "text/plain": [
       "['Go.\\tVa !',\n",
       " 'Run!\\tCours\\u202f!',\n",
       " 'Run!\\tCourez\\u202f!',\n",
       " 'Wow!\\tÇa alors\\u202f!',\n",
       " 'Fire!\\tAu feu !']"
      ]
     },
     "execution_count": 4,
     "metadata": {},
     "output_type": "execute_result"
    }
   ],
   "source": [
    "line[:5]"
   ]
  },
  {
   "cell_type": "code",
   "execution_count": 5,
   "metadata": {},
   "outputs": [],
   "source": [
    "en, fra, pairs = split_en_fra(line)\n",
    "filtered_pairs = filter_pairs(pairs)"
   ]
  },
  {
   "cell_type": "code",
   "execution_count": 6,
   "metadata": {},
   "outputs": [
    {
     "name": "stdout",
     "output_type": "stream",
     "text": [
      "['go.', 'run!', 'run!', 'wow!', 'fire!']\n",
      "['va !', 'cours !', 'courez !', ' a alors !', 'au feu !']\n",
      "[['go.', 'va !'], ['run!', 'cours\\u202f!'], ['run!', 'courez\\u202f!'], ['wow!', 'ça alors\\u202f!'], ['fire!', 'au feu !']]\n",
      "[['i am fat.', 'je suis gras.'], ['he is ill.', 'il est malade.'], ['he is old.', 'il est vieux.'], ['i am busy.', 'je suis occupé.'], ['i am calm.', 'je suis calme.']]\n",
      "135842\n",
      "3885\n"
     ]
    }
   ],
   "source": [
    "print(en[:5])\n",
    "print(fra[:5])\n",
    "print(pairs[:5])\n",
    "print(filtered_pairs[:5])\n",
    "print(len(pairs))\n",
    "print(len(filtered_pairs))"
   ]
  },
  {
   "cell_type": "code",
   "execution_count": 7,
   "metadata": {},
   "outputs": [],
   "source": [
    "def build_dict(eng_list, fra_list):\n",
    "    \n",
    "    start_token = 0\n",
    "    end_token = 1\n",
    "    \n",
    "    en_idx = {}\n",
    "    fra_idx = {}\n",
    "    idx_en = {}\n",
    "    idx_fra = {}\n",
    "    \n",
    "    en_idx['SOS'] = start_token\n",
    "    en_idx['EOS'] = end_token\n",
    "    fra_idx['SOS'] = start_token\n",
    "    fra_idx['EOS'] = end_token\n",
    "    \n",
    "    idx = 2\n",
    "    for e in eng_list:\n",
    "        for word in e.split():\n",
    "            if word not in en_idx:\n",
    "                en_idx[word] = idx\n",
    "                idx += 1\n",
    "    idx = 2\n",
    "    for f in fra_list:\n",
    "        for word in f.split():\n",
    "            if word not in fra_idx:\n",
    "                fra_idx[word] = idx\n",
    "                idx += 1\n",
    "            \n",
    "    idx_en[0] = 'SOS'\n",
    "    idx_en[1] = 'EOS'\n",
    "    idx_fra[0] = 'SOS'\n",
    "    idx_fra[1] = 'EOS'\n",
    "        \n",
    "    for word, idx in en_idx.items():\n",
    "        idx_en[idx] = word\n",
    "    for word, idx in fra_idx.items():\n",
    "        idx_fra[idx] = word\n",
    "    \n",
    "    return en_idx, fra_idx, idx_en, idx_fra"
   ]
  },
  {
   "cell_type": "code",
   "execution_count": 8,
   "metadata": {},
   "outputs": [],
   "source": [
    "en_idx, fra_idx, idx_en, idx_fra = build_dict(en, fra)"
   ]
  },
  {
   "cell_type": "code",
   "execution_count": 13,
   "metadata": {},
   "outputs": [],
   "source": [
    "def en_to_idx(sentence):\n",
    "    return [en_idx[word] for word in sentence.split(' ')]\n",
    "\n",
    "def fra_to_idx(sentence):\n",
    "    return [fra_idx[word] for word in sentence.split(' ')]\n",
    "\n",
    "def to_tensor(indexes):\n",
    "    indexes.append(1)\n",
    "    return torch.tensor(indexes, dtype=torch.long, device=device).view(-1, 1)"
   ]
  },
  {
   "cell_type": "code",
   "execution_count": 24,
   "metadata": {},
   "outputs": [],
   "source": [
    "en_tensor = []\n",
    "fra_tensor = []\n",
    "\n",
    "for e in en:\n",
    "    en_tensor.append(to_tensor(en_to_idx(e.strip())))\n",
    "for f in fra:\n",
    "    fra_tensor.append(to_tensor(fra_to_idx(f.strip())))"
   ]
  },
  {
   "cell_type": "code",
   "execution_count": 9,
   "metadata": {},
   "outputs": [],
   "source": [
    "class EncoderRNN(nn.Module):\n",
    "    \n",
    "    def __init__(self, input_size, hidden_size):\n",
    "        super(EncoderRNN, self).__init__()\n",
    "        \n",
    "        self.hidden_size = hidden_size\n",
    "        self.input_size = input_size\n",
    "        \n",
    "        self.embedding = nn.Embedding(input_size, hidden_size)\n",
    "        self.gru = nn.GRU(hidden_size, hidden_size)\n",
    "        \n",
    "    def forward(self, inp, hidden):\n",
    "        embed = self.embedding(inp, hidden)\n",
    "        output = embed\n",
    "        output, hidden = self.gru(output, hidden)\n",
    "        \n",
    "        return output, hidden\n",
    "    \n",
    "    def init_hidden(self):\n",
    "        return torch.zeros(1, 1, self.hidden_size, device=device)"
   ]
  },
  {
   "cell_type": "code",
   "execution_count": 10,
   "metadata": {},
   "outputs": [],
   "source": [
    "class DecoderRNN(nn.Module):\n",
    "    \n",
    "    def __init__(self, hidden_size, output_size):\n",
    "        super(DecoderRNN, self).__init__()\n",
    "        \n",
    "        self.hidden_size = hidden_size\n",
    "        self.output_size = output_size\n",
    "        \n",
    "        self.embedding = nn.Embedding(output_size, hidden_size)\n",
    "        self.gru = nn.GRU(hidden_size, hidden_size)\n",
    "        self.out = nn.Dense(hidden_size, output_size)\n",
    "        self.softmax = nn.LogSoftmax(dim=1)\n",
    "        \n",
    "    def forward(self, inp, hidden):\n",
    "        output = self.embedding(inp).view(1, 1, -1)\n",
    "        output = F.relu(output)\n",
    "        output, hidden = self.gru(output, hidden)\n",
    "        output = self.softmax(self.ouut(output[0]))\n",
    "        \n",
    "        return output, hidden\n",
    "    \n",
    "    def init_hidden(self):\n",
    "        return torch.zeros(1, 1, self.hidden_size, device=device)"
   ]
  },
  {
   "cell_type": "code",
   "execution_count": 12,
   "metadata": {},
   "outputs": [],
   "source": [
    "class AttnDecoderRNN(nn.Module):\n",
    "    \n",
    "    def __init__(self, hidden_size, output_size, dropout_p=0.1, max_length=10):\n",
    "        super(AttnDecoderRNN, self).__init__()\n",
    "        \n",
    "        self.hidden_size = hidden_size\n",
    "        self.output_size = output_size\n",
    "        self.dropout_p = dropout_p\n",
    "        self.max_length = max_length\n",
    "        \n",
    "        self.embedding = nn.Embedding(self.output_size, self.hidden_size)\n",
    "        self.attn = nn.Linear(self.hidden_size * 2, self.max_length)\n",
    "        self.attn_combine = nn.Linear(self.hidden_size * 2, self.hidden_size)\n",
    "        self.dropout = nn.Dropout(self.dropout_p)\n",
    "        self.gru = nn.GRU(self.hidden_size, self.hidden_size)\n",
    "        self.out = nn.Linear(self.hidden_size, self.output_size)\n",
    "        \n",
    "    def forward(self, inp, hidden, encoder_outputs):\n",
    "        embed = self.embedding(inp).view(1, 1, -1)\n",
    "        embed = self.dropout(embed)\n",
    "        \n",
    "        attn_weights = F.softmax(self.attn(torch.cat((embed[0], hidden[0]), 1)), dim=1)\n",
    "        attn_applied = torch.bmm(attn_weights.unsqueeze(0), encoder_outputs.unsqueeze(0))\n",
    "        \n",
    "        output = torch.cat((embedded[0], attn_applied[0]), 1)\n",
    "        output = self.attn_combine(output).unsqueeze(0)\n",
    "        \n",
    "        output = F.relu(output)\n",
    "        output, hidden = self.gru(output, hidden)\n",
    "        \n",
    "        output = F.log_softmax(self.out(output[0]), dim=1)\n",
    "        \n",
    "        return output, hidden, attn_weights\n",
    "    \n",
    "    def init_hidden(self):\n",
    "        return torch.zeros(1, 1, self.hidden_size, device=device)"
   ]
  },
  {
   "cell_type": "code",
   "execution_count": 11,
   "metadata": {},
   "outputs": [
    {
     "ename": "SyntaxError",
     "evalue": "unexpected EOF while parsing (<ipython-input-11-13b01967388a>, line 2)",
     "output_type": "error",
     "traceback": [
      "\u001b[1;36m  File \u001b[1;32m\"<ipython-input-11-13b01967388a>\"\u001b[1;36m, line \u001b[1;32m2\u001b[0m\n\u001b[1;33m    \u001b[0m\n\u001b[1;37m    ^\u001b[0m\n\u001b[1;31mSyntaxError\u001b[0m\u001b[1;31m:\u001b[0m unexpected EOF while parsing\n"
     ]
    }
   ],
   "source": [
    "def train(input_tensor, target_tensor, encoder, decoder, encoder_opt, decoder_opt, crit, max_length=10):\n",
    "    \n",
    "    encoder_hidden = encoder.init_hidden()\n",
    "    \n",
    "    encoder_opt.zero_grad()\n",
    "    decoder_opt.zero_grad()\n",
    "    \n",
    "    input_length = input_tensor.size(0)\n",
    "    output_length = target_tensor.size(0)\n",
    "    encoder_outputs = torch.zeros(max_length, encoder.hidden_size, device=device)\n",
    "    \n",
    "    training_loss = 0\n",
    "    for i in range(input_length):\n",
    "        encoder_output, encoder_hidden = encoder(input_tensor[i], encoder_hidden)\n",
    "        encoder_outputs[i] = encoder_output[0,0]\n",
    "        \n",
    "    decoder_input = torch.tensor([[0]], device=device)\n",
    "    \n",
    "    decoder_hidden = encoder_hidden\n",
    "    \n",
    "    "
   ]
  }
 ],
 "metadata": {
  "kernelspec": {
   "display_name": "Python 3",
   "language": "python",
   "name": "python3"
  },
  "language_info": {
   "codemirror_mode": {
    "name": "ipython",
    "version": 3
   },
   "file_extension": ".py",
   "mimetype": "text/x-python",
   "name": "python",
   "nbconvert_exporter": "python",
   "pygments_lexer": "ipython3",
   "version": "3.8.5"
  }
 },
 "nbformat": 4,
 "nbformat_minor": 4
}
