{
 "cells": [
  {
   "cell_type": "code",
   "execution_count": 25,
   "metadata": {},
   "outputs": [],
   "source": [
    "import numpy as np\n",
    "import nltk\n",
    "import re"
   ]
  },
  {
   "cell_type": "code",
   "execution_count": 67,
   "metadata": {},
   "outputs": [
    {
     "name": "stderr",
     "output_type": "stream",
     "text": [
      "[nltk_data] Downloading package twitter_samples to\n",
      "[nltk_data]     C:\\Users\\Archel\\AppData\\Roaming\\nltk_data...\n",
      "[nltk_data]   Package twitter_samples is already up-to-date!\n"
     ]
    },
    {
     "data": {
      "text/plain": [
       "True"
      ]
     },
     "execution_count": 67,
     "metadata": {},
     "output_type": "execute_result"
    }
   ],
   "source": [
    "nltk.download('twitter_samples')"
   ]
  },
  {
   "cell_type": "code",
   "execution_count": 68,
   "metadata": {},
   "outputs": [
    {
     "name": "stderr",
     "output_type": "stream",
     "text": [
      "[nltk_data] Downloading package stopwords to\n",
      "[nltk_data]     C:\\Users\\Archel\\AppData\\Roaming\\nltk_data...\n",
      "[nltk_data]   Package stopwords is already up-to-date!\n"
     ]
    },
    {
     "data": {
      "text/plain": [
       "True"
      ]
     },
     "execution_count": 68,
     "metadata": {},
     "output_type": "execute_result"
    }
   ],
   "source": [
    "nltk.download('stopwords')"
   ]
  },
  {
   "cell_type": "code",
   "execution_count": 44,
   "metadata": {},
   "outputs": [],
   "source": [
    "from nltk.corpus import twitter_samples, stopwords\n",
    "from nltk.tokenize import TweetTokenizer"
   ]
  },
  {
   "cell_type": "code",
   "execution_count": 8,
   "metadata": {},
   "outputs": [],
   "source": [
    "pos_tweets = twitter_samples.strings('positive_tweets.json')\n",
    "neg_tweets = twitter_samples.strings('negative_tweets.json')"
   ]
  },
  {
   "cell_type": "code",
   "execution_count": 10,
   "metadata": {},
   "outputs": [],
   "source": [
    "test_pos = pos_tweets[4000:]\n",
    "train_pos = pos_tweets[:4000]\n",
    "test_neg = neg_tweets[4000:]\n",
    "train_neg = neg_tweets[:4000]\n",
    "\n",
    "x_train = train_pos + train_neg\n",
    "x_test = test_pos + test_neg"
   ]
  },
  {
   "cell_type": "code",
   "execution_count": 20,
   "metadata": {},
   "outputs": [],
   "source": [
    "y_train = np.append(np.ones((len(train_pos), 1)), np.zeros((len(train_neg), 1)))\n",
    "y_test = np.append(np.ones((len(test_pos), 1)), np.zeros((len(test_neg), 1)))"
   ]
  },
  {
   "cell_type": "code",
   "execution_count": 21,
   "metadata": {},
   "outputs": [
    {
     "name": "stdout",
     "output_type": "stream",
     "text": [
      "(8000,)\n",
      "(2000,)\n"
     ]
    }
   ],
   "source": [
    "print(y_train.shape)\n",
    "print(y_test.shape)"
   ]
  },
  {
   "cell_type": "code",
   "execution_count": 48,
   "metadata": {},
   "outputs": [],
   "source": [
    "def preprocess_tweet(tweet):\n",
    "    \n",
    "    # copy over the tweet input\n",
    "    new_tweet = tweet\n",
    "    # remove links and URLS\n",
    "    new_tweet = re.sub(r'[(http(s)?):\\/\\/(www\\.)?a-zA-Z0-9@:%._\\+~#=]{2,256}\\.[a-z]{2,6}\\b([-a-zA-Z0-9@:%_\\+.~#?&//=]*)', '', tweet)\n",
    "    # remove hashtags\n",
    "    new_tweet = re.sub(r'#', '', new_tweet)\n",
    "    # remove old style retweets\n",
    "    new_tweet = re.sub(r'^RT[\\s]+', '', new_tweet)\n",
    "    \n",
    "    stemmer = PorterStemmer()\n",
    "    eng_stopwords = stopwords.words('english')\n",
    "    tokenizer = TweetTokenizer(preserve_case=False, strip_handles=True, reduce_len=True)\n",
    "    \n",
    "    tweet_tokens = tokenizer.tokenize(new_tweet)\n",
    "    \n",
    "    tweets_clean = []\n",
    "    for word in tweet_tokens:\n",
    "        if word in eng_stopwords:\n",
    "            continue\n",
    "        stem = stemmer.stem(word)\n",
    "        stem = stem.lower()\n",
    "        \n",
    "        tweets_clean.append(stem)\n",
    "    \n",
    "    return tweets_clean"
   ]
  },
  {
   "cell_type": "code",
   "execution_count": 49,
   "metadata": {},
   "outputs": [
    {
     "data": {
      "text/plain": [
       "['followfriday', 'top', 'engag', 'member', 'commun', 'week', ':)']"
      ]
     },
     "execution_count": 49,
     "metadata": {},
     "output_type": "execute_result"
    }
   ],
   "source": [
    "preprocess_tweet(x_train[0])"
   ]
  },
  {
   "cell_type": "code",
   "execution_count": 61,
   "metadata": {},
   "outputs": [],
   "source": [
    "def build_freqs(features, labels):\n",
    "    \n",
    "    freq = {}\n",
    "    \n",
    "    for (x, y) in zip(features, labels):\n",
    "        x = preprocess_tweet(x)\n",
    "        for word in x:\n",
    "            pair = (word, y)\n",
    "\n",
    "            if pair not in freq:\n",
    "                freq[pair] = 1\n",
    "            else:\n",
    "                freq[pair] += 1\n",
    "\n",
    "    return freq"
   ]
  },
  {
   "cell_type": "code",
   "execution_count": 65,
   "metadata": {},
   "outputs": [
    {
     "data": {
      "text/plain": [
       "{('followfriday', 1.0): 1,\n",
       " ('top', 1.0): 1,\n",
       " ('engag', 1.0): 1,\n",
       " ('member', 1.0): 1,\n",
       " ('commun', 1.0): 1,\n",
       " ('week', 1.0): 1,\n",
       " (':)', 1.0): 8,\n",
       " ('hey', 1.0): 1,\n",
       " ('jame', 1.0): 1,\n",
       " ('!', 1.0): 9,\n",
       " ('odd', 1.0): 1,\n",
       " (':/', 1.0): 1,\n",
       " ('pleas', 1.0): 1,\n",
       " ('call', 1.0): 2,\n",
       " ('contact', 1.0): 1,\n",
       " ('centr', 1.0): 1,\n",
       " ('02392441234', 1.0): 1,\n",
       " ('abl', 1.0): 1,\n",
       " ('assist', 1.0): 1,\n",
       " ('mani', 1.0): 1,\n",
       " ('thank', 1.0): 1,\n",
       " ('listen', 1.0): 1,\n",
       " ('last', 1.0): 1,\n",
       " ('night', 1.0): 1,\n",
       " ('bleed', 1.0): 1,\n",
       " ('amaz', 1.0): 1,\n",
       " ('track', 1.0): 1,\n",
       " ('.', 1.0): 5,\n",
       " ('scotland', 1.0): 1,\n",
       " ('?', 1.0): 1,\n",
       " ('congrat', 1.0): 1,\n",
       " ('yeaaah', 1.0): 1,\n",
       " ('yipppi', 1.0): 1,\n",
       " ('accnt', 1.0): 1,\n",
       " ('verifi', 1.0): 1,\n",
       " ('rqst', 1.0): 1,\n",
       " ('succeed', 1.0): 1,\n",
       " ('got', 1.0): 1,\n",
       " ('blue', 1.0): 1,\n",
       " ('tick', 1.0): 1,\n",
       " ('mark', 1.0): 1,\n",
       " ('fb', 1.0): 1,\n",
       " ('profil', 1.0): 1,\n",
       " ('15', 1.0): 1,\n",
       " ('day', 1.0): 1,\n",
       " ('one', 1.0): 1,\n",
       " ('irresist', 1.0): 1,\n",
       " ('flipkartfashionfriday', 1.0): 1,\n",
       " ('like', 1.0): 1,\n",
       " ('keep', 1.0): 1,\n",
       " ('love', 1.0): 1,\n",
       " ('custom', 1.0): 1,\n",
       " ('wait', 1.0): 1,\n",
       " ('long', 1.0): 1,\n",
       " ('hope', 1.0): 1,\n",
       " ('enjoy', 1.0): 1,\n",
       " ('happi', 1.0): 1,\n",
       " ('friday', 1.0): 1,\n",
       " ('-', 1.0): 1,\n",
       " ('lwwf', 1.0): 1,\n",
       " ('second', 1.0): 1,\n",
       " ('thought', 1.0): 1,\n",
       " (',', 1.0): 3,\n",
       " ('’', 1.0): 1,\n",
       " ('enough', 1.0): 1,\n",
       " ('time', 1.0): 1,\n",
       " ('dd', 1.0): 1,\n",
       " ('new', 1.0): 1,\n",
       " ('short', 1.0): 1,\n",
       " ('enter', 1.0): 1,\n",
       " ('system', 1.0): 1,\n",
       " ('sheep', 1.0): 1,\n",
       " ('must', 1.0): 1,\n",
       " ('buy', 1.0): 1,\n",
       " ('jgh', 1.0): 1,\n",
       " ('go', 1.0): 1,\n",
       " ('bayan', 1.0): 1,\n",
       " (':d', 1.0): 1,\n",
       " ('bye', 1.0): 1,\n",
       " ('act', 1.0): 1,\n",
       " ('mischiev', 1.0): 1,\n",
       " ('etl', 1.0): 1,\n",
       " ('layer', 1.0): 1,\n",
       " ('in-hous', 1.0): 1,\n",
       " ('wareh', 1.0): 1,\n",
       " ('app', 1.0): 1,\n",
       " ('katamari', 1.0): 1,\n",
       " ('well', 1.0): 1,\n",
       " ('…', 1.0): 1,\n",
       " ('name', 1.0): 1,\n",
       " ('impli', 1.0): 1,\n",
       " (':p', 1.0): 1}"
      ]
     },
     "execution_count": 65,
     "metadata": {},
     "output_type": "execute_result"
    }
   ],
   "source": [
    "build_freqs(x_train[:10], y_train[:10])"
   ]
  },
  {
   "cell_type": "code",
   "execution_count": null,
   "metadata": {},
   "outputs": [],
   "source": []
  }
 ],
 "metadata": {
  "kernelspec": {
   "display_name": "Python 3",
   "language": "python",
   "name": "python3"
  },
  "language_info": {
   "codemirror_mode": {
    "name": "ipython",
    "version": 3
   },
   "file_extension": ".py",
   "mimetype": "text/x-python",
   "name": "python",
   "nbconvert_exporter": "python",
   "pygments_lexer": "ipython3",
   "version": "3.8.5"
  }
 },
 "nbformat": 4,
 "nbformat_minor": 4
}
