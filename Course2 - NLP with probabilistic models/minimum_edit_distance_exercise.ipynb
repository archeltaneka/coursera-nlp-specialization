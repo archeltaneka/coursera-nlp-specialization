{
 "cells": [
  {
   "cell_type": "code",
   "execution_count": 3,
   "metadata": {},
   "outputs": [],
   "source": [
    "import numpy as np"
   ]
  },
  {
   "cell_type": "code",
   "execution_count": 12,
   "metadata": {},
   "outputs": [],
   "source": [
    "def calculate_levenshtein_distance(source, target):\n",
    "    \n",
    "    m = len(source)\n",
    "    n = len(target)\n",
    "    del_cost = 1\n",
    "    ins_cost = 1\n",
    "    rep_cost = 2\n",
    "    \n",
    "    D = np.zeros((m+1, n+1))\n",
    "    \n",
    "    # fill in the first column\n",
    "    for col in range(1, m+1):\n",
    "        D[0,col] = D[0,col-1] + del_cost\n",
    "        \n",
    "    # fill in the first row\n",
    "    for row in range(1, n+1):\n",
    "        D[row,0] = D[row-1,0] + ins_cost\n",
    "        \n",
    "    # fill the rest of the table\n",
    "    for row in range(1, m+1):\n",
    "        for col in range(1, n+1):\n",
    "            rep_temp = rep_cost\n",
    "            \n",
    "            if source[row-1] == target[col-1]:\n",
    "                rep_temp = 0\n",
    "                \n",
    "            D[row, col] = min([D[row,col-1] + del_cost, D[row-1,col] + ins_cost, D[row-1,col-1] + rep_temp])\n",
    "                \n",
    "    min_edit_dist = D[m,n]\n",
    "    \n",
    "    return D, min_edit_dist"
   ]
  },
  {
   "cell_type": "code",
   "execution_count": 14,
   "metadata": {},
   "outputs": [
    {
     "name": "stdout",
     "output_type": "stream",
     "text": [
      "Source: play\n",
      "Target: stay\n",
      "Minimum number of edit operations: 4.0\n",
      "[[0. 1. 2. 3. 4.]\n",
      " [1. 2. 3. 4. 5.]\n",
      " [2. 3. 4. 5. 6.]\n",
      " [3. 4. 5. 4. 5.]\n",
      " [4. 5. 6. 5. 4.]]\n"
     ]
    }
   ],
   "source": [
    "source = 'play'\n",
    "target = 'stay'\n",
    "D, min_edit_dist = calculate_levenshtein_distance(source, target)\n",
    "\n",
    "print('Source:', source)\n",
    "print('Target:', target)\n",
    "print('Minimum number of edit operations:', min_edit_dist)\n",
    "print(D)"
   ]
  },
  {
   "cell_type": "code",
   "execution_count": null,
   "metadata": {},
   "outputs": [],
   "source": []
  }
 ],
 "metadata": {
  "kernelspec": {
   "display_name": "Python 3",
   "language": "python",
   "name": "python3"
  },
  "language_info": {
   "codemirror_mode": {
    "name": "ipython",
    "version": 3
   },
   "file_extension": ".py",
   "mimetype": "text/x-python",
   "name": "python",
   "nbconvert_exporter": "python",
   "pygments_lexer": "ipython3",
   "version": "3.8.5"
  }
 },
 "nbformat": 4,
 "nbformat_minor": 4
}
